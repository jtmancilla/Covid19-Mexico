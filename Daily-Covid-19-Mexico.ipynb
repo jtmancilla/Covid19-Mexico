{
 "cells": [
  {
   "cell_type": "markdown",
   "metadata": {},
   "source": [
    "## Currently Data"
   ]
  },
  {
   "cell_type": "code",
   "execution_count": 1,
   "metadata": {},
   "outputs": [
    {
     "name": "stderr",
     "output_type": "stream",
     "text": [
      "/Users/jamancilla/anaconda3/lib/python3.7/site-packages/statsmodels/tools/_testing.py:19: FutureWarning: pandas.util.testing is deprecated. Use the functions in the public API at pandas.testing instead.\n",
      "  import pandas.util.testing as tm\n",
      "/Users/jamancilla/anaconda3/lib/python3.7/site-packages/statsmodels/compat/pandas.py:23: FutureWarning: The Panel class is removed from pandas. Accessing it from the top-level namespace will also be removed in the next version\n",
      "  data_klasses = (pandas.Series, pandas.DataFrame, pandas.Panel)\n"
     ]
    }
   ],
   "source": [
    "import covid_mx ## function and packages\n",
    "# grid search model\n",
    "from math import sqrt\n",
    "from multiprocessing import cpu_count\n",
    "from joblib import Parallel\n",
    "from joblib import delayed\n",
    "from warnings import catch_warnings\n",
    "from warnings import filterwarnings\n",
    "from statsmodels.tsa.holtwinters import ExponentialSmoothing\n",
    "from sklearn.metrics import mean_squared_error\n",
    "from pandas import read_csv\n",
    "from numpy import array\n",
    "# Python Data Analysis imports\n",
    "import pandas as pd\n",
    "from pandas import Series,DataFrame\n",
    "import numpy as np\n",
    "import pandas.plotting as pp\n",
    "\n",
    "# Visualisation imports\n",
    "import matplotlib.pyplot as plt\n",
    "import seaborn as sns\n",
    "sns.set_style('whitegrid')\n",
    "# %matplotlib inline\n",
    "# plt.style.use('fivethirtyeight')\n",
    "from tabulate import tabulate\n",
    "\n",
    "# statistics\n",
    "from statsmodels.tsa.api import Holt\n",
    "from sklearn.model_selection import train_test_split\n",
    "from sklearn.metrics import r2_score, mean_squared_error"
   ]
  },
  {
   "cell_type": "code",
   "execution_count": 2,
   "metadata": {},
   "outputs": [],
   "source": [
    "## Load Data\n",
    "df = covid_mx.load_data()\n",
    "## specific column to analyze\n",
    "dfObj = covid_mx.prepare_data(df,'Confirmed')"
   ]
  },
  {
   "cell_type": "markdown",
   "metadata": {},
   "source": [
    "# Confirmed cases in México (Daily)"
   ]
  },
  {
   "cell_type": "markdown",
   "metadata": {},
   "source": [
    "## CRISP-DM"
   ]
  },
  {
   "cell_type": "code",
   "execution_count": 3,
   "metadata": {},
   "outputs": [
    {
     "data": {
      "text/plain": [
       "<matplotlib.axes._subplots.AxesSubplot at 0x1c24325f60>"
      ]
     },
     "execution_count": 3,
     "metadata": {},
     "output_type": "execute_result"
    },
    {
     "data": {
      "image/png": "[encoded data removed]",
      "text/plain": [
       "<Figure size 864x360 with 1 Axes>"
      ]
     },
     "metadata": {
      "needs_background": "light"
     },
     "output_type": "display_data"
    }
   ],
   "source": [
    "# Plotting Days in México \"confirmed cases\"\n",
    "country = 'Mexico'\n",
    "dfObj[country].plot(legend=True,figsize=(12,5))"
   ]
  },
  {
   "cell_type": "markdown",
   "metadata": {},
   "source": [
    "## Model"
   ]
  },
  {
   "cell_type": "code",
   "execution_count": 4,
   "metadata": {},
   "outputs": [],
   "source": [
    "## Subset Mexico and the world,  same pandemic days\n",
    "df_mx = dfObj[country]\n",
    "# Drop rows with missing Confirmed values\n",
    "df_mx = df_mx.dropna()\n",
    "# df_mx.index.max()\n"
   ]
  },
  {
   "cell_type": "code",
   "execution_count": 5,
   "metadata": {},
   "outputs": [
    {
     "name": "stdout",
     "output_type": "stream",
     "text": [
      "101\n"
     ]
    }
   ],
   "source": [
    "## Days\n",
    "print(df_mx.index.max())"
   ]
  },
  {
   "cell_type": "code",
   "execution_count": 6,
   "metadata": {},
   "outputs": [],
   "source": [
    "# https://machinelearningmastery.com/how-to-grid-search-triple-exponential-smoothing-for-time-series-forecasting-in-python/ \n",
    "data = pd.Series(df_mx).values\n",
    "data = data.astype('double')\n",
    "n_test = 5\n",
    "cfg_list = covid_mx.exp_smoothing_configs()"
   ]
  },
  {
   "cell_type": "code",
   "execution_count": 7,
   "metadata": {},
   "outputs": [
    {
     "name": "stdout",
     "output_type": "stream",
     "text": [
      " > Model[[None, False, None, None, True, True]] 2730.600\n",
      " > Model[['add', False, None, None, True, True]] 731.376\n",
      " > Model[[None, False, None, None, True, False]] 3812.112\n",
      " > Model[[None, False, None, None, False, True]] 2741.454\n",
      " > Model[[None, False, None, None, False, False]] 3812.112\n",
      " > Model[['add', False, None, None, True, False]] 741.913\n",
      " > Model[['add', False, None, None, False, True]] 557.480\n",
      " > Model[['add', False, None, None, False, False]] 538.551\n",
      " > Model[['add', True, None, None, False, True]] 557.480\n",
      " > Model[['add', True, None, None, False, False]] 538.551\n",
      " > Model[['add', True, None, None, True, False]] 618.717\n",
      " > Model[['add', True, None, None, True, True]] 574.266\n",
      " > Model[['mul', True, None, None, False, True]] 672.797\n",
      " > Model[['mul', True, None, None, False, False]] 672.750\n",
      " > Model[['mul', False, None, None, False, True]] 684.870\n",
      " > Model[['mul', False, None, None, False, False]] 710.198\n"
     ]
    }
   ],
   "source": [
    "scores = covid_mx.grid_search(data, cfg_list, n_test)"
   ]
  },
  {
   "cell_type": "code",
   "execution_count": 8,
   "metadata": {},
   "outputs": [
    {
     "name": "stdout",
     "output_type": "stream",
     "text": [
      "['add', False, None, None, False, False] 538.5510657129205\n",
      "['add', True, None, None, False, False] 538.5511821031946\n",
      "['add', False, None, None, False, True] 557.4801994549173\n"
     ]
    }
   ],
   "source": [
    "for cfg, error in scores[:3]:\n",
    "        print(cfg, error)"
   ]
  },
  {
   "cell_type": "markdown",
   "metadata": {},
   "source": [
    "## Forecast"
   ]
  },
  {
   "cell_type": "code",
   "execution_count": 9,
   "metadata": {},
   "outputs": [],
   "source": [
    "## Best\n",
    "model = ExponentialSmoothing(pd.Series(data), \n",
    "                             trend='mul', damped=True, seasonal=None, seasonal_periods=None)\n",
    "# fit model\n",
    "model = model.fit(optimized=True, use_boxcox=False, remove_bias=False)"
   ]
  },
  {
   "cell_type": "code",
   "execution_count": 10,
   "metadata": {},
   "outputs": [
    {
     "name": "stdout",
     "output_type": "stream",
     "text": [
      "==============================================================================\n",
      "                       coeff                 code              optimized      \n",
      "------------------------------------------------------------------------------\n",
      "smoothing_level            1.0000000                alpha                 True\n",
      "smoothing_slope            0.6670400                 beta                 True\n",
      "initial_level              0.8439160                  l.0                 True\n",
      "initial_slope              3.2445443                  b.0                 True\n",
      "damping_slope              0.9674360                  phi                 True\n",
      "------------------------------------------------------------------------------\n"
     ]
    }
   ],
   "source": [
    "print(model.summary().tables[1])"
   ]
  },
  {
   "cell_type": "code",
   "execution_count": 11,
   "metadata": {},
   "outputs": [
    {
     "name": "stdout",
     "output_type": "stream",
     "text": [
      "102    123272.0\n",
      "103    126417.0\n",
      "104    129537.0\n",
      "105    132629.0\n",
      "106    135690.0\n",
      "107    138718.0\n",
      "108    141712.0\n",
      "109    144671.0\n",
      "110    147591.0\n",
      "111    150473.0\n",
      "dtype: float64\n"
     ]
    }
   ],
   "source": [
    "print(pd.Series(model.forecast(10)).round())"
   ]
  },
  {
   "cell_type": "code",
   "execution_count": 12,
   "metadata": {},
   "outputs": [
    {
     "name": "stdout",
     "output_type": "stream",
     "text": [
      "Fg: Cases in Mexico Forecast.\n"
     ]
    },
    {
     "data": {
      "image/png": "[encoded data removed]",
      "text/plain": [
       "<Figure size 864x576 with 1 Axes>"
      ]
     },
     "metadata": {
      "needs_background": "light"
     },
     "output_type": "display_data"
    }
   ],
   "source": [
    "fcast = pd.Series(model.forecast(10)).rename(\"Exponential trend\")\n",
    "print(\"Fg: Cases in Mexico Forecast.\")\n",
    "ax = pd.Series(data).plot( marker=\"o\", figsize=(12,8)) # color=\"blue\",\n",
    "pd.Series(model.fittedvalues).plot(ax=ax, color='red')\n",
    "fcast.plot(ax=ax, color='red', marker=\"o\", legend=True)\n",
    "ax.set_title(\"Mexico\")\n",
    "ax.set_xlabel(\"Days\")\n",
    "ax.set_ylabel(\"Confirmed Cases\")\n",
    "ax.spines[\"top\"].set_alpha(0)\n",
    "plt.show()\n"
   ]
  },
  {
   "cell_type": "code",
   "execution_count": null,
   "metadata": {},
   "outputs": [],
   "source": []
  }
 ],
 "metadata": {
  "kernelspec": {
   "display_name": "Python 3",
   "language": "python",
   "name": "python3"
  },
  "language_info": {
   "codemirror_mode": {
    "name": "ipython",
    "version": 3
   },
   "file_extension": ".py",
   "mimetype": "text/x-python",
   "name": "python",
   "nbconvert_exporter": "python",
   "pygments_lexer": "ipython3",
   "version": "3.7.3"
  }
 },
 "nbformat": 4,
 "nbformat_minor": 2
}
