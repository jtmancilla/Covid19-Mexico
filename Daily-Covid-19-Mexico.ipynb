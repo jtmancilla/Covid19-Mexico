{
 "cells": [
  {
   "cell_type": "markdown",
   "metadata": {},
   "source": [
    "## Currently Data"
   ]
  },
  {
   "cell_type": "code",
   "execution_count": 1,
   "metadata": {},
   "outputs": [
    {
     "name": "stderr",
     "output_type": "stream",
     "text": [
      "/Users/jamancilla/anaconda3/lib/python3.7/site-packages/statsmodels/tools/_testing.py:19: FutureWarning: pandas.util.testing is deprecated. Use the functions in the public API at pandas.testing instead.\n",
      "  import pandas.util.testing as tm\n",
      "/Users/jamancilla/anaconda3/lib/python3.7/site-packages/statsmodels/compat/pandas.py:23: FutureWarning: The Panel class is removed from pandas. Accessing it from the top-level namespace will also be removed in the next version\n",
      "  data_klasses = (pandas.Series, pandas.DataFrame, pandas.Panel)\n"
     ]
    }
   ],
   "source": [
    "import covid_mx ## function and packages\n",
    "# grid search model\n",
    "from math import sqrt\n",
    "from multiprocessing import cpu_count\n",
    "from joblib import Parallel\n",
    "from joblib import delayed\n",
    "from warnings import catch_warnings\n",
    "from warnings import filterwarnings\n",
    "from statsmodels.tsa.holtwinters import ExponentialSmoothing\n",
    "from sklearn.metrics import mean_squared_error\n",
    "from pandas import read_csv\n",
    "from numpy import array\n",
    "# Python Data Analysis imports\n",
    "import pandas as pd\n",
    "from pandas import Series,DataFrame\n",
    "import numpy as np\n",
    "import pandas.plotting as pp\n",
    "\n",
    "# Visualisation imports\n",
    "import matplotlib.pyplot as plt\n",
    "import seaborn as sns\n",
    "sns.set_style('whitegrid')\n",
    "# %matplotlib inline\n",
    "# plt.style.use('fivethirtyeight')\n",
    "from tabulate import tabulate\n",
    "\n",
    "# statistics\n",
    "from statsmodels.tsa.api import Holt\n",
    "from sklearn.model_selection import train_test_split\n",
    "from sklearn.metrics import r2_score, mean_squared_error"
   ]
  },
  {
   "cell_type": "code",
   "execution_count": 2,
   "metadata": {},
   "outputs": [],
   "source": [
    "## Load Data\n",
    "df = covid_mx.load_data()\n",
    "## specific column to analyze\n",
    "dfObj = covid_mx.prepare_data(df,'Confirmed')"
   ]
  },
  {
   "cell_type": "markdown",
   "metadata": {},
   "source": [
    "# Confirmed cases in México (Daily)"
   ]
  },
  {
   "cell_type": "markdown",
   "metadata": {},
   "source": [
    "## CRISP-DM"
   ]
  },
  {
   "cell_type": "code",
   "execution_count": 3,
   "metadata": {},
   "outputs": [
    {
     "data": {
      "text/plain": [
       "<matplotlib.axes._subplots.AxesSubplot at 0x1c213a1a90>"
      ]
     },
     "execution_count": 3,
     "metadata": {},
     "output_type": "execute_result"
    },
    {
     "data": {
      "image/png": "[encoded data removed]",
      "text/plain": [
       "<Figure size 864x360 with 1 Axes>"
      ]
     },
     "metadata": {},
     "output_type": "display_data"
    }
   ],
   "source": [
    "# Plotting Days in México \"confirmed cases\"\n",
    "country = 'Mexico'\n",
    "dfObj[country].plot(legend=True,figsize=(12,5))"
   ]
  },
  {
   "cell_type": "markdown",
   "metadata": {},
   "source": [
    "## Model"
   ]
  },
  {
   "cell_type": "code",
   "execution_count": 4,
   "metadata": {},
   "outputs": [],
   "source": [
    "## Subset Mexico and the world,  same pandemic days\n",
    "df_mx = dfObj[country]\n",
    "# Drop rows with missing Confirmed values\n",
    "df_mx = df_mx.dropna()\n",
    "# df_mx.index.max()\n"
   ]
  },
  {
   "cell_type": "code",
   "execution_count": 5,
   "metadata": {},
   "outputs": [
    {
     "name": "stdout",
     "output_type": "stream",
     "text": [
      "266\n"
     ]
    }
   ],
   "source": [
    "## Days\n",
    "print(df_mx.index.max())"
   ]
  },
  {
   "cell_type": "code",
   "execution_count": 6,
   "metadata": {},
   "outputs": [],
   "source": [
    "# https://machinelearningmastery.com/how-to-grid-search-triple-exponential-smoothing-for-time-series-forecasting-in-python/ \n",
    "data = pd.Series(df_mx).values\n",
    "data = data.astype('double')\n",
    "n_test = 5\n",
    "cfg_list = covid_mx.exp_smoothing_configs()"
   ]
  },
  {
   "cell_type": "code",
   "execution_count": 7,
   "metadata": {},
   "outputs": [
    {
     "name": "stdout",
     "output_type": "stream",
     "text": [
      " > Model[['add', False, None, None, True, True]] 1995.827\n",
      " > Model[['add', False, None, None, True, False]] 2022.746\n",
      " > Model[['add', False, None, None, False, True]] 2195.716\n",
      " > Model[['add', False, None, None, False, False]] 2109.716\n",
      " > Model[['add', True, None, None, False, False]] 2109.718\n",
      " > Model[['add', True, None, None, False, True]] 2195.720\n",
      " > Model[['add', True, None, None, True, False]] 1997.190\n",
      " > Model[['add', True, None, None, True, True]] 1985.353\n",
      " > Model[['mul', True, None, None, False, True]] 1923.879\n",
      " > Model[['mul', True, None, None, False, False]] 1876.622\n",
      " > Model[['mul', False, None, None, False, True]] 2022.323\n",
      " > Model[['mul', False, None, None, False, False]] 2134.741\n",
      " > Model[[None, False, None, None, True, True]] 1575.477\n",
      " > Model[[None, False, None, None, True, False]] 4194.995\n",
      " > Model[[None, False, None, None, False, True]] 1575.970\n",
      " > Model[[None, False, None, None, False, False]] 4194.995\n"
     ]
    }
   ],
   "source": [
    "scores = covid_mx.grid_search(data, cfg_list, n_test)"
   ]
  },
  {
   "cell_type": "code",
   "execution_count": 8,
   "metadata": {},
   "outputs": [
    {
     "name": "stdout",
     "output_type": "stream",
     "text": [
      "[None, False, None, None, True, True] 1575.4773211900394\n",
      "[None, False, None, None, False, True] 1575.9702245949175\n",
      "['mul', True, None, None, False, False] 1876.6218154303392\n"
     ]
    }
   ],
   "source": [
    "for cfg, error in scores[:3]:\n",
    "        print(cfg, error)"
   ]
  },
  {
   "cell_type": "markdown",
   "metadata": {},
   "source": [
    "## Forecast"
   ]
  },
  {
   "cell_type": "code",
   "execution_count": 9,
   "metadata": {},
   "outputs": [
    {
     "name": "stderr",
     "output_type": "stream",
     "text": [
      "/Users/jamancilla/anaconda3/lib/python3.7/site-packages/statsmodels/tsa/holtwinters.py:711: ConvergenceWarning: Optimization failed to converge. Check mle_retvals.\n",
      "  ConvergenceWarning)\n"
     ]
    }
   ],
   "source": [
    "## Best\n",
    "model = ExponentialSmoothing(pd.Series(data), \n",
    "                             trend='mul', damped=True, seasonal=None, seasonal_periods=None)\n",
    "# fit model\n",
    "model = model.fit(optimized=True, use_boxcox=False, remove_bias=False)"
   ]
  },
  {
   "cell_type": "code",
   "execution_count": 10,
   "metadata": {},
   "outputs": [
    {
     "name": "stdout",
     "output_type": "stream",
     "text": [
      "==============================================================================\n",
      "                       coeff                 code              optimized      \n",
      "------------------------------------------------------------------------------\n",
      "smoothing_level            1.0000000                alpha                 True\n",
      "smoothing_slope            0.1464572                 beta                 True\n",
      "initial_level              17.429784                  l.0                 True\n",
      "initial_slope              3.8889696                  b.0                 True\n",
      "damping_slope              0.9827248                  phi                 True\n",
      "------------------------------------------------------------------------------\n"
     ]
    }
   ],
   "source": [
    "print(model.summary().tables[1])"
   ]
  },
  {
   "cell_type": "code",
   "execution_count": 11,
   "metadata": {},
   "outputs": [
    {
     "name": "stdout",
     "output_type": "stream",
     "text": [
      "267    1030329.0\n",
      "268    1034632.0\n",
      "269    1038879.0\n",
      "270    1043069.0\n",
      "271    1047202.0\n",
      "272    1051281.0\n",
      "273    1055304.0\n",
      "274    1059273.0\n",
      "275    1063188.0\n",
      "276    1067050.0\n",
      "dtype: float64\n"
     ]
    }
   ],
   "source": [
    "print(pd.Series(model.forecast(10)).round())"
   ]
  },
  {
   "cell_type": "code",
   "execution_count": 12,
   "metadata": {},
   "outputs": [
    {
     "name": "stdout",
     "output_type": "stream",
     "text": [
      "Fg: Cases in Mexico Forecast.\n"
     ]
    },
    {
     "data": {
      "image/png": "[encoded data removed]",
      "text/plain": [
       "<Figure size 864x576 with 1 Axes>"
      ]
     },
     "metadata": {},
     "output_type": "display_data"
    }
   ],
   "source": [
    "fcast = pd.Series(model.forecast(10)).rename(\"Exponential trend\")\n",
    "print(\"Fg: Cases in Mexico Forecast.\")\n",
    "ax = pd.Series(data).plot( marker=\"o\", figsize=(12,8)) # color=\"blue\",\n",
    "pd.Series(model.fittedvalues).plot(ax=ax, color='red')\n",
    "fcast.plot(ax=ax, color='red', marker=\"o\", legend=True)\n",
    "ax.set_title(\"Mexico\")\n",
    "ax.set_xlabel(\"Days\")\n",
    "ax.set_ylabel(\"Confirmed Cases\")\n",
    "ax.spines[\"top\"].set_alpha(0)\n",
    "plt.show()\n"
   ]
  },
  {
   "cell_type": "code",
   "execution_count": null,
   "metadata": {},
   "outputs": [],
   "source": []
  }
 ],
 "metadata": {
  "kernelspec": {
   "display_name": "Python 3",
   "language": "python",
   "name": "python3"
  },
  "language_info": {
   "codemirror_mode": {
    "name": "ipython",
    "version": 3
   },
   "file_extension": ".py",
   "mimetype": "text/x-python",
   "name": "python",
   "nbconvert_exporter": "python",
   "pygments_lexer": "ipython3",
   "version": "3.7.3"
  }
 },
 "nbformat": 4,
 "nbformat_minor": 2
}
