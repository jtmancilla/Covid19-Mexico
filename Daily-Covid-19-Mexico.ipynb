{
 "cells": [
  {
   "cell_type": "markdown",
   "metadata": {},
   "source": [
    "## Currently Data"
   ]
  },
  {
   "cell_type": "code",
   "execution_count": 47,
   "metadata": {},
   "outputs": [],
   "source": [
    "import covid_mx\n",
    "\n",
    "# Python Data Analysis imports\n",
    "import pandas as pd\n",
    "from pandas import Series,DataFrame\n",
    "import numpy as np\n",
    "import pandas.plotting as pp\n",
    "\n",
    "# Visualisation imports\n",
    "import matplotlib.pyplot as plt\n",
    "import seaborn as sns\n",
    "sns.set_style('whitegrid')\n",
    "%matplotlib inline\n",
    "# plt.style.use('fivethirtyeight')\n",
    "from tabulate import tabulate\n",
    "\n",
    "# statistics\n",
    "from statsmodels.tsa.api import Holt\n",
    "from sklearn.model_selection import train_test_split\n",
    "from sklearn.metrics import r2_score, mean_squared_error\n"
   ]
  },
  {
   "cell_type": "code",
   "execution_count": 48,
   "metadata": {},
   "outputs": [],
   "source": [
    "## Load Data\n",
    "df = covid_mx.load_data()\n",
    "## specific column to analyze\n",
    "dfObj = covid_mx.prepare_data(df,'Confirmed')"
   ]
  },
  {
   "cell_type": "markdown",
   "metadata": {},
   "source": [
    "# Confirmed cases in México (Daily)"
   ]
  },
  {
   "cell_type": "markdown",
   "metadata": {},
   "source": [
    "## CRISP-DM"
   ]
  },
  {
   "cell_type": "code",
   "execution_count": 49,
   "metadata": {},
   "outputs": [
    {
     "data": {
      "text/plain": [
       "<matplotlib.axes._subplots.AxesSubplot at 0x1c19e0db38>"
      ]
     },
     "execution_count": 49,
     "metadata": {},
     "output_type": "execute_result"
    },
    {
     "data": {
      "image/png": "[encoded data removed]",
      "text/plain": [
       "<Figure size 864x360 with 1 Axes>"
      ]
     },
     "metadata": {
      "needs_background": "light"
     },
     "output_type": "display_data"
    }
   ],
   "source": [
    "# Plotting Days in México \"confirmed cases\"\n",
    "country = 'Mexico'\n",
    "dfObj[country].plot(legend=True,figsize=(12,5))"
   ]
  },
  {
   "cell_type": "markdown",
   "metadata": {},
   "source": [
    "## Model"
   ]
  },
  {
   "cell_type": "code",
   "execution_count": 50,
   "metadata": {},
   "outputs": [],
   "source": [
    "## Subset Mexico and the world,  same pandemic days\n",
    "df_mx = dfObj[country]\n",
    "# Drop rows with missing Confirmed values\n",
    "df_mx = df_mx.dropna()\n",
    "# df_mx.index.max()\n"
   ]
  },
  {
   "cell_type": "code",
   "execution_count": 51,
   "metadata": {},
   "outputs": [
    {
     "name": "stdout",
     "output_type": "stream",
     "text": [
      "65\n"
     ]
    }
   ],
   "source": [
    "## Days\n",
    "print(df_mx.index.max())"
   ]
  },
  {
   "cell_type": "markdown",
   "metadata": {},
   "source": [
    "## Forecast"
   ]
  },
  {
   "cell_type": "code",
   "execution_count": 52,
   "metadata": {},
   "outputs": [],
   "source": [
    "# grid search model\n",
    "from math import sqrt\n",
    "from multiprocessing import cpu_count\n",
    "from joblib import Parallel\n",
    "from joblib import delayed\n",
    "from warnings import catch_warnings\n",
    "from warnings import filterwarnings\n",
    "from statsmodels.tsa.holtwinters import ExponentialSmoothing\n",
    "from sklearn.metrics import mean_squared_error\n",
    "from pandas import read_csv\n",
    "from numpy import array\n",
    " \n",
    "# one-step Holt Winter’s Exponential Smoothing forecast\n",
    "def exp_smoothing_forecast(history, config):\n",
    "    t,d,s,p,b,r = config\n",
    "    # define model\n",
    "    history = array(history)\n",
    "    model = ExponentialSmoothing(history, trend=t, damped=d, seasonal=s, seasonal_periods=p)\n",
    "    # fit model\n",
    "    model_fit = model.fit(optimized=True, use_boxcox=b, remove_bias=r)\n",
    "    # make one step forecast\n",
    "    yhat = model_fit.predict(len(history), len(history))\n",
    "    return yhat[0]\n",
    " \n",
    "# root mean squared error or rmse\n",
    "def measure_rmse(actual, predicted):\n",
    "    return sqrt(mean_squared_error(actual, predicted))\n",
    " \n",
    "# split a univariate dataset into train/test sets\n",
    "def train_test_split(data, n_test):\n",
    "    return data[:-n_test], data[-n_test:]\n",
    " \n",
    "# walk-forward validation for univariate data\n",
    "def walk_forward_validation(data, n_test, cfg):\n",
    "    predictions = list()\n",
    "    # split dataset\n",
    "    train, test = train_test_split(data, n_test)\n",
    "    # seed history with training dataset\n",
    "    history = [x for x in train]\n",
    "    # step over each time-step in the test set\n",
    "    for i in range(len(test)):\n",
    "        # fit model and make forecast for history\n",
    "        yhat = exp_smoothing_forecast(history, cfg)\n",
    "        # store forecast in list of predictions\n",
    "        predictions.append(yhat)\n",
    "        # add actual observation to history for the next loop\n",
    "        history.append(test[i])\n",
    "    # estimate prediction error\n",
    "    error = measure_rmse(test, predictions)\n",
    "    return error\n",
    " \n",
    "# score a model, return None on failure\n",
    "def score_model(data, n_test, cfg, debug=False):\n",
    "    result = None\n",
    "    # convert config to a key\n",
    "    key = str(cfg)\n",
    "    # show all warnings and fail on exception if debugging\n",
    "    if debug:\n",
    "        result = walk_forward_validation(data, n_test, cfg)\n",
    "    else:\n",
    "        # one failure during model validation suggests an unstable config\n",
    "        try:\n",
    "            # never show warnings when grid searching, too noisy\n",
    "            with catch_warnings():\n",
    "                filterwarnings(\"ignore\")\n",
    "                result = walk_forward_validation(data, n_test, cfg)\n",
    "        except:\n",
    "            error = None\n",
    "    # check for an interesting result\n",
    "    if result is not None:\n",
    "        print(' > Model[%s] %.3f' % (key, result))\n",
    "    return (key, result)\n",
    " \n",
    "# grid search configs\n",
    "def grid_search(data, cfg_list, n_test, parallel=True):\n",
    "    scores = None\n",
    "    if parallel:\n",
    "        # execute configs in parallel\n",
    "        executor = Parallel(n_jobs=cpu_count(), backend='multiprocessing')\n",
    "        tasks = (delayed(score_model)(data, n_test, cfg) for cfg in cfg_list)\n",
    "        scores = executor(tasks)\n",
    "    else:\n",
    "        scores = [score_model(data, n_test, cfg) for cfg in cfg_list]\n",
    "    # remove empty results\n",
    "    scores = [r for r in scores if r[1] != None]\n",
    "    # sort configs by error, asc\n",
    "    scores.sort(key=lambda tup: tup[1])\n",
    "    return scores\n",
    " \n",
    "# create a set of exponential smoothing configs to try\n",
    "def exp_smoothing_configs(seasonal=[None]):\n",
    "    models = list()\n",
    "    # define config lists\n",
    "    t_params = ['add', 'mul', None]\n",
    "    d_params = [True, False]\n",
    "    s_params = ['add', 'mul', None]\n",
    "    p_params = seasonal\n",
    "    b_params = [True, False]\n",
    "    r_params = [True, False]\n",
    "    # create config instances\n",
    "    for t in t_params:\n",
    "        for d in d_params:\n",
    "            for s in s_params:\n",
    "                for p in p_params:\n",
    "                    for b in b_params:\n",
    "                        for r in r_params:\n",
    "                            cfg = [t,d,s,p,b,r]\n",
    "                            models.append(cfg)\n",
    "    return models\n",
    " "
   ]
  },
  {
   "cell_type": "code",
   "execution_count": 54,
   "metadata": {},
   "outputs": [],
   "source": [
    "# https://machinelearningmastery.com/how-to-grid-search-triple-exponential-smoothing-for-time-series-forecasting-in-python/ \n",
    "data = pd.Series(df_mx).values\n",
    "data = data.astype('double')\n",
    "n_test = 5\n",
    "cfg_list = exp_smoothing_configs()"
   ]
  },
  {
   "cell_type": "code",
   "execution_count": 55,
   "metadata": {},
   "outputs": [
    {
     "name": "stdout",
     "output_type": "stream",
     "text": [
      " > Model[['add', False, None, None, True, True]] 191.917\n",
      " > Model[['add', False, None, None, True, False]] 191.000\n",
      " > Model[['add', False, None, None, False, True]] 198.787\n",
      " > Model[['add', False, None, None, False, False]] 201.917\n",
      " > Model[['add', True, None, None, False, False]] 201.917\n",
      " > Model[['add', True, None, None, False, True]] 198.802\n",
      " > Model[['add', True, None, None, True, False]] 258.010\n",
      " > Model[['add', True, None, None, True, True]] 239.775\n",
      " > Model[['mul', True, None, None, False, True]] 149.197\n",
      " > Model[['mul', True, None, None, False, False]] 146.267\n",
      " > Model[['mul', False, None, None, False, True]] 205.527\n",
      " > Model[['mul', False, None, None, False, False]] 207.916\n",
      " > Model[[None, False, None, None, True, True]] 1048.247\n",
      " > Model[[None, False, None, None, True, False]] 1353.111\n",
      " > Model[[None, False, None, None, False, True]] 1053.064\n",
      " > Model[[None, False, None, None, False, False]] 1353.111\n"
     ]
    }
   ],
   "source": [
    "scores = grid_search(data, cfg_list, n_test)"
   ]
  },
  {
   "cell_type": "code",
   "execution_count": 56,
   "metadata": {},
   "outputs": [
    {
     "name": "stdout",
     "output_type": "stream",
     "text": [
      "['mul', True, None, None, False, False] 146.2669830602959\n",
      "['mul', True, None, None, False, True] 149.1970513152679\n",
      "['add', False, None, None, True, False] 190.99959589709252\n"
     ]
    }
   ],
   "source": [
    "for cfg, error in scores[:3]:\n",
    "        print(cfg, error)"
   ]
  },
  {
   "cell_type": "code",
   "execution_count": 57,
   "metadata": {},
   "outputs": [
    {
     "name": "stderr",
     "output_type": "stream",
     "text": [
      "/Users/jamancilla/anaconda3/lib/python3.7/site-packages/statsmodels/tsa/holtwinters.py:711: ConvergenceWarning: Optimization failed to converge. Check mle_retvals.\n",
      "  ConvergenceWarning)\n"
     ]
    }
   ],
   "source": [
    "model = ExponentialSmoothing(pd.Series(data), \n",
    "                             trend='mul', damped=True, seasonal=None, seasonal_periods=None)\n",
    "# fit model\n",
    "model = model.fit(optimized=True, use_boxcox=False, remove_bias=False)"
   ]
  },
  {
   "cell_type": "code",
   "execution_count": 58,
   "metadata": {},
   "outputs": [
    {
     "name": "stdout",
     "output_type": "stream",
     "text": [
      "==============================================================================\n",
      "                       coeff                 code              optimized      \n",
      "------------------------------------------------------------------------------\n",
      "smoothing_level            1.0000000                alpha                 True\n",
      "smoothing_slope            0.6842105                 beta                 True\n",
      "initial_level              1.0000000                  l.0                 True\n",
      "initial_slope              3.7185414                  b.0                 True\n",
      "damping_slope              0.9473684                  phi                 True\n",
      "------------------------------------------------------------------------------\n"
     ]
    }
   ],
   "source": [
    "print(model.summary().tables[1])"
   ]
  },
  {
   "cell_type": "code",
   "execution_count": 59,
   "metadata": {},
   "outputs": [
    {
     "name": "stdout",
     "output_type": "stream",
     "text": [
      "66    24868.0\n",
      "67    26267.0\n",
      "68    27666.0\n",
      "69    29059.0\n",
      "70    30444.0\n",
      "71    31817.0\n",
      "72    33175.0\n",
      "73    34514.0\n",
      "74    35833.0\n",
      "75    37130.0\n",
      "dtype: float64\n"
     ]
    }
   ],
   "source": [
    "print(pd.Series(model.forecast(10)).round())"
   ]
  },
  {
   "cell_type": "code",
   "execution_count": 60,
   "metadata": {},
   "outputs": [
    {
     "name": "stdout",
     "output_type": "stream",
     "text": [
      "Fg: Cases in Mexico Forecast.\n"
     ]
    },
    {
     "data": {
      "image/png": "[encoded data removed]",
      "text/plain": [
       "<Figure size 864x576 with 1 Axes>"
      ]
     },
     "metadata": {
      "needs_background": "light"
     },
     "output_type": "display_data"
    }
   ],
   "source": [
    "fcast = pd.Series(model.forecast(10)).rename(\"Exponential trend\")\n",
    "print(\"Fg: Cases in Mexico Forecast.\")\n",
    "ax = pd.Series(data).plot( marker=\"o\", figsize=(12,8)) # color=\"blue\",\n",
    "pd.Series(model.fittedvalues).plot(ax=ax, color='red')\n",
    "fcast.plot(ax=ax, color='red', marker=\"o\", legend=True)\n",
    "ax.set_title(\"Mexico\")\n",
    "ax.set_xlabel(\"Days\")\n",
    "ax.set_ylabel(\"Confirmed Cases\")\n",
    "ax.spines[\"top\"].set_alpha(0)\n",
    "plt.show()\n"
   ]
  },
  {
   "cell_type": "code",
   "execution_count": null,
   "metadata": {},
   "outputs": [],
   "source": []
  }
 ],
 "metadata": {
  "kernelspec": {
   "display_name": "Python 3",
   "language": "python",
   "name": "python3"
  },
  "language_info": {
   "codemirror_mode": {
    "name": "ipython",
    "version": 3
   },
   "file_extension": ".py",
   "mimetype": "text/x-python",
   "name": "python",
   "nbconvert_exporter": "python",
   "pygments_lexer": "ipython3",
   "version": "3.7.3"
  }
 },
 "nbformat": 4,
 "nbformat_minor": 2
}
